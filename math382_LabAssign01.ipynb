{
 "cells": [
  {
   "cell_type": "markdown",
   "metadata": {},
   "source": [
    "# MATH 382 - Fall 2021\n",
    "## Scientific Computing\n",
    "Yashin Rodriguez\n",
    "<hr>\n",
    "\n",
    "# Lab Assignment \\#1: Random Variables, their Distributions, and their Graphs\n",
    "\n",
    "<hr>"
   ]
  },
  {
   "cell_type": "markdown",
   "metadata": {},
   "source": [
    "## Goals:\n",
    "<ul>\n",
    "    <li>Practice with <tt>scipy.stats</tt> package</li>\n",
    "    <li>Examples of random variables, probability mass/density functions (<tt>pmf/pdf</tt>) and cummulative density functions</li>\n",
    "    <li>Practice with <tt>matplotlib.pyplot</tt> and <tt>numpy</tt> packages</li>\n",
    "</ul>"
   ]
  },
  {
   "cell_type": "markdown",
   "metadata": {},
   "source": [
    "## Directions:\n",
    "\n",
    "Write your name at the top of the document, right underneath \"Scientific Computing\"\n",
    "\n",
    "There are four problems in this assignment (25 points each)\n",
    "\n",
    "Each problem explores a discrete or continuous random variable from <tt>scipy.stats</tt> and for each problem you'll be asked to complete some of the following four tasks:\n",
    "<ol>\n",
    "    <li type = 'a'>Provide a brief description of the random variable specified in the problem and its <tt>pmf/pdf</tt>, its <tt>cdf</tt>, and its <tt>ppf</tt>.</li><br>\n",
    "    <li type = 'a'><b>Code:</b> after importing the random variable, calculate the expected value and variance for the shape parameters given, plot the <tt>pdf</tt> and <tt>cdf</tt> in the same axes, and display them with labels for each curve.<br><br>       \n",
    "    <b>Notice that the code cells below contain commented lines (those starting with \\#) and partial code: if the line starts with \"#run this cell\", just read any additional comments and run the cell, if the cell starts with \"complete and run\", complete the code as directed beore running the cell.</b></li><br>\n",
    "    <li type = 'a'>Additional questions about the distribution.</li><br>\n",
    "    <li type = 'a'><b>Additional code:</b> try to recreate the same results with new shape parameters.</li>\n",
    "</ol>\n",
    "\n",
    "After completing all four problems, upload your notebook to the assignment submission page."
   ]
  },
  {
   "cell_type": "markdown",
   "metadata": {},
   "source": [
    "## <tt>import</tt> Packages Required for all Problems"
   ]
  },
  {
   "cell_type": "code",
   "execution_count": 20,
   "metadata": {},
   "outputs": [],
   "source": [
    "import matplotlib.pyplot as plt\n",
    "import numpy as np \n",
    "import math\n",
    "\n",
    "\n"
   ]
  },
  {
   "cell_type": "markdown",
   "metadata": {},
   "source": [
    "## Explore Random Variables: <tt>pmf/pdf</tt> and <tt>cdf</tt> Functions and their Graphs"
   ]
  },
  {
   "cell_type": "markdown",
   "metadata": {},
   "source": [
    "## Problem \\#1. Geometric Distribution\n",
    "\n",
    "<ul>\n",
    "    <li><a href = \"https://docs.scipy.org/doc/scipy/reference/generated/scipy.stats.geom.html#scipy.stats.geom\"><tt>scipy.stats</tt> description</a> of the Geometric distribution</li>\n",
    "</ul>"
   ]
  },
  {
   "cell_type": "markdown",
   "metadata": {},
   "source": [
    "<b>a.</b> About the geometric distribution<br><br>\n",
    "The pmf expresses the probability of obtaining k-1 failures before one success in an infinite sequence of Bernoulli trials with probability of success $p$.<br><br>\n",
    "<ul>    \n",
    "    <li><b>Probability Mass Function (pmf):</b><br>\n",
    "        $$f_X(k) = (1 - p)^{k-1}p, \\ \\ \\ \\ \\ k > 0, \\ \\ \\ 0 < p < 1$$</li>\n",
    "    <br>\n",
    "    <li><b>Example:</b> The probability of obtaining three tails before a head when flipping a fair coin ($p = 0.5$) is<br><br>\n",
    "        $$ f_X(4) = (0.5)^3 \\ 0.5 = 0.0625$$</li>\n",
    "</ul>\n",
    "<br>\n",
    "    Use $f_X(k)$ to find the <b>cummulative density function (cdf):</b><br>\n",
    "    [Hint: Show that $F_X(k) = p \\sum_{i=0}^{k-1}r^i$, for some $r$, a geometric series...]<br><br>\n",
    "    $$F_X(k) =1-(1-p)^{k}$$\n",
    "<br>"
   ]
  },
  {
   "cell_type": "markdown",
   "metadata": {},
   "source": [
    "<b>b. Graphs of the pmf and cdf.</b>"
   ]
  },
  {
   "cell_type": "code",
   "execution_count": 21,
   "metadata": {},
   "outputs": [],
   "source": [
    "# run this cell: read the additional comments and code, then run the cell\n",
    "\n",
    "# import the geometric random variable of the scipy.stats module \n",
    "from scipy.stats import geom"
   ]
  },
  {
   "cell_type": "code",
   "execution_count": 22,
   "metadata": {},
   "outputs": [],
   "source": [
    "# complete and run: read the comments and the code below and complete the \n",
    "# code to implement the tasks described:\n",
    "\n",
    "# add code to:\n",
    "# set the sha ccpe parameter p = 0.6\n",
    "p=0.6\n",
    "# you can now run this cell"
   ]
  },
  {
   "cell_type": "code",
   "execution_count": 23,
   "metadata": {},
   "outputs": [],
   "source": [
    "# complete and run: read the comments and the code below and complete the \n",
    "# code to implement the tasks described:\n",
    "\n",
    "# add code to:\n",
    "# calculate its mean and variance using the poisson.stats method\n",
    "mean,var,=geom.stats(p,moments='mv')\n",
    "# you can now run this cell"
   ]
  },
  {
   "cell_type": "code",
   "execution_count": 24,
   "metadata": {},
   "outputs": [],
   "source": [
    "# complete and run: read the comments and the code below and complete the \n",
    "# code to implement the tasks described:\n",
    "\n",
    "# use the ppf method poisson.ppf(p) to calculate:\n",
    "# x_min - the first value of x s.t. F_X(x) >= 0.01, \n",
    "\n",
    "x_min= geom.ppf(0.01,p)\n",
    "# add code to:\n",
    "# find x_max - the first value of x s.t. F(X(x) >= 0.99\n",
    "x_max=geom.ppf(0.99,p)\n",
    "\n",
    "# add code to:\n",
    "# create an array of interger entries from x_min to x_max\n",
    "x=np.arange(geom.ppf(0.01,p),\n",
    " geom.ppf(0.99,p))\n",
    "\n",
    "# you can now run this cell"
   ]
  },
  {
   "cell_type": "code",
   "execution_count": 25,
   "metadata": {},
   "outputs": [
    {
     "data": {
      "text/plain": [
       "<matplotlib.legend.Legend at 0x7fc34fe03a90>"
      ]
     },
     "execution_count": 25,
     "metadata": {},
     "output_type": "execute_result"
    },
    {
     "data": {
      "image/png": "[encoded data removed]",
      "text/plain": [
       "<Figure size 432x288 with 1 Axes>"
      ]
     },
     "metadata": {
      "needs_background": "light"
     },
     "output_type": "display_data"
    }
   ],
   "source": [
    "# complete and run: read the comments and the code below and complete the \n",
    "# code to implement the tasks described:\n",
    "\n",
    "# add code to:\n",
    "\n",
    "# (1) create a new figure and set of axis as a subplot of size 1x1\n",
    "fig,ax=plt.subplots(1,1)\n",
    "\n",
    "# (2) plot the values of the pmf for a geometric variable for the values in x using blue dots of size ms = 8\n",
    "ax.plot(x,geom.pmf(x,p),'bo',ms=8,label='geometric pmf')\n",
    "\n",
    "\n",
    "# (3) plot some vertical bars to emphasize these are discrete values (blue vars of width lw = 5)\n",
    "ax.vlines(x,0,geom.pmf(x,p),colors='b',alpha=0.5)\n",
    "\n",
    "# (4) plot in the same axes the cdf for the same values with red asterisks of size ms = 8\n",
    "\n",
    "ax.plot(x,geom.cdf(x,p),'r*',ms=8,label='geometric cdf')\n",
    "\n",
    "\n",
    "# (5) and emphasize it is a discrete plot by displaying vertical lines (red bars of width lw = 3)\n",
    "\n",
    "ax.vlines(x,0,geom.cdf(x,p),colors='r',lw=3,alpha=0.3)\n",
    "\n",
    "# (6) display the graph labels\n",
    "ax.legend()"
   ]
  },
  {
   "cell_type": "markdown",
   "metadata": {},
   "source": [
    "<b>c. Additional Questions/Exercises.</b>\n",
    "<ol>\n",
    "    <li>Is this consistent with the above definition for a geometric variable with $p = 0.6$?<br><br>\n",
    "    Yes, this is consistent because the probality of success is 0.6,not having a failure (corresponding to $f_X(1)$)from there we can see the probaibilty of having  a increased of failure decreases.<br><br> \n",
    "     <li>Compute the expected value and variance of the above geometric variable using the definition\n",
    "        <br><br>\n",
    "        $$E[X] = \\sum_{k = 0}^{n} k f_X(k)= \\frac{1}{p} \\hspace{0.7in} \\text{and} \\hspace{0.7in} \\text{Var}[X] = E[X^2] - E[X]^2= \\frac {2-P}{p^2}-\\frac {1}{P^2}=\\frac{1-p}{p^2}$$. \n",
    "    </li>\n",
    "    \n",
    "    and compare them to the values obtained with <tt>geom.stats(p, moments=\"mv\")</tt>\n",
    "</ol>"
   ]
  },
  {
   "cell_type": "markdown",
   "metadata": {},
   "source": [
    "<b>d. Additional Code.</b> Insert new code cells and try to recreate the results for different values of $p$"
   ]
  },
  {
   "cell_type": "code",
   "execution_count": 26,
   "metadata": {},
   "outputs": [
    {
     "data": {
      "text/plain": [
       "<matplotlib.legend.Legend at 0x7fc34fe57790>"
      ]
     },
     "execution_count": 26,
     "metadata": {},
     "output_type": "execute_result"
    },
    {
     "data": {
      "image/png": "[encoded data removed]",
      "text/plain": [
       "<Figure size 432x288 with 1 Axes>"
      ]
     },
     "metadata": {
      "needs_background": "light"
     },
     "output_type": "display_data"
    }
   ],
   "source": [
    " p=0.2\n",
    "mean, var, = geom.stats(p, moments='mv')\n",
    "\n",
    "x_min = geom.ppf(0.03, p)\n",
    "x_max = geom.ppf(0.99,p)\n",
    "\n",
    "x = np.arange(geom.ppf(0.03, p),\n",
    "              geom.ppf(0.99, p))\n",
    "# (1) create a new figure and set of axis as a subplot of size 1x1\n",
    "fig1, ax1 = plt.subplots(1,1)\n",
    "# (2) plot the values of the pmf for a geometric variable for the values in x using blue dots of size ms = 8\n",
    "ax1.plot(x, geom.pmf(x, p),'bo', ms=8, label='geometric pmf')\n",
    "# (3) plot some vertical bars to emphasize these are discrete values (blue vars of width lw = 5)\n",
    "ax1.vlines(x, 0, geom.pmf(x, p),colors='b',lw=5,alpha=0.5)\n",
    "# (4) plot in the same axes the cdf for the same values with red asterisks of size ms = 8\n",
    "ax1.plot( x, geom.cdf(x, p), 'r*', ms=8, label='geometric cdf')\n",
    "# (5) and emphasize it is a discrete plot by displaying vertical lines (red bars of width lw = 3)\n",
    "ax1.vlines(x, 0, geom.cdf(x,p), colors='r', lw=3, alpha=0.3)\n",
    "# (6) display the graph labels\n",
    "ax1.legend()"
   ]
  },
  {
   "cell_type": "markdown",
   "metadata": {},
   "source": [
    "## Problem \\#2. Poisson Distribution\n",
    "\n",
    "<ul>\n",
    "    <li><a href = \"https://docs.scipy.org/doc/scipy/reference/generated/scipy.stats.poisson.html#scipy.stats.poisson\"><tt>scipy.stats</tt> description</a> of the Poisson distribution</li>\n",
    "    <li><a href = \"https://www.itl.nist.gov/div898/handbook/eda/section3/eda366j.htm\">NIST description</a> of the Poisson distribution</li>\n",
    "</ul>"
   ]
  },
  {
   "cell_type": "markdown",
   "metadata": {},
   "source": [
    "<b>a.</b> About the Poisson distribution\n",
    "<ol>\n",
    "    <li>Use the pmf to write the expression foor the cdf of the Poisson distribution<br><br>\n",
    "    <b>Probability Mass Function (pmf):</b><br>\n",
    "    $$f_X(k; \\mu) = e^{-\\mu}\\frac{\\mu^k}{k!}, \\ \\ \\ k \\geq 0 $$\n",
    "        <br>\n",
    "    <b>Cummulative Density Function (cdf):</b><br>\n",
    "    $$F_X(k; \\mu) = \\sum_{i = 0}^{k} f_X(k, \\mu) = \\frac{{e^{-\\mu} \\mu^k}} {{k!}}$$\n",
    "    </li><br>\n",
    "    <li>What type of events does a Poisson random variable model?</li><br>\n",
    "     Poisson random variable model the number of events at given time. \n",
    "      <li>What does $\\mu$ represent? Can $\\mu$ be a non integer value?</li>\n",
    "    $\\mu$ represent the shape of the parameter which calculates the average number events at a given time also $\\mu$ can take non integers value as well.\n",
    "</ol>"
   ]
  },
  {
   "cell_type": "markdown",
   "metadata": {},
   "source": [
    "<b>b. Graphs of the pmf and cdf.</b>"
   ]
  },
  {
   "cell_type": "code",
   "execution_count": 27,
   "metadata": {
    "scrolled": false
   },
   "outputs": [],
   "source": [
    "# run this cell: read the additional comments and code, then run the cell\n",
    "\n",
    "# import the poisson random variable of the scipy.stats module \n",
    "from scipy.stats import poisson"
   ]
  },
  {
   "cell_type": "code",
   "execution_count": 9,
   "metadata": {},
   "outputs": [],
   "source": [
    "# complete and run: read the comments and the code below and complete the \n",
    "# code to implement the tasks described:\n",
    "\n",
    "# add code to:\n",
    "# set the shape parameter mu = 4\n",
    "mu = 4\n",
    "\n",
    "# you can now run this cell"
   ]
  },
  {
   "cell_type": "code",
   "execution_count": 10,
   "metadata": {},
   "outputs": [],
   "source": [
    "# complete and run: read the comments and the code below and complete the \n",
    "# code to implement the tasks described:\n",
    "\n",
    "# add code to:\n",
    "# calculate its mean and variance using the poisson.stats method\n",
    "\n",
    " a678mean, var = poisson.stats(mu, moments='mv')\n",
    "\n",
    "# you can now run this cell"
   ]
  },
  {
   "cell_type": "code",
   "execution_count": 11,
   "metadata": {},
   "outputs": [],
   "source": [
    "# complete and run: read the comments and the code below and complete the \n",
    "# code to implement the tasks described:\n",
    "\n",
    "# use the ppf method poisson.ppf(p) to calculate:\n",
    "# x_min - the first value of x s.t. F_X(x) >= 0.01, \n",
    "x_min = poisson.ppf(0.01, mu)\n",
    "\n",
    "# add code to:\n",
    "# find x_max - the first value of x s.t. F(X(x) >= 0.99\n",
    "x_max = poisson.ppf(0.99,mu)\n",
    "\n",
    "# add code to:\n",
    "# create an array of interger entries from x_min to x_max\n",
    "x = np.arange(poisson.ppf(0.01, mu),\n",
    "              poisson.ppf(0.99, mu))\n",
    "\n",
    "# you can now run this cell"
   ]
  },
  {
   "cell_type": "code",
   "execution_count": 12,
   "metadata": {},
   "outputs": [
    {
     "data": {
      "text/plain": [
       "<matplotlib.legend.Legend at 0x7fb199638fd0>"
      ]
     },
     "execution_count": 12,
     "metadata": {},
     "output_type": "execute_result"
    },
    {
     "data": {
      "image/png": "[encoded data removed]",
      "text/plain": [
       "<Figure size 432x288 with 1 Axes>"
      ]
     },
     "metadata": {
      "needs_background": "light"
     },
     "output_type": "display_data"
    }
   ],
   "source": [
    "# complete and run: read the comments and the code below and complete the \n",
    "# code to implement the tasks described:\n",
    "\n",
    "# add code to:\n",
    "\n",
    "# (1) create a new figure and set of axis as a subplot of size 1x1\n",
    "fig,ax =  plt.subplots(1,1)\n",
    "\n",
    "# (2) plot the values of the pmf for a Poisson variable for the values in x using blue dots of size ms = 8\n",
    "ax.plot(x, poisson.pmf(x, mu),'bo', ms=8, label='poisson pmf') \n",
    "\n",
    "# (3) plot some vertical bars  to emphasize these are discrete values (blue vars of width lw = 5)\n",
    "ax.vlines(x, 0, poisson.pmf(x, mu),colors='b',lw=5,alpha=0.5) \n",
    "\n",
    "# (4) plot in the same axes the cdf for the same values with red asterisks of size ms = 8\n",
    "ax.plot(x, poisson.cdf(x, mu), 'r*', ms=8, label='poisson cdf')\n",
    "\n",
    "# (5) and emphasize it is a discrete plot by displaying vertical lines (red bars of width lw = 3)\n",
    "ax.vlines(x, 0, poisson.cdf(x,mu), colors='r', lw=3, alpha=0.3)\n",
    "\n",
    "# (6) display the graph labels\n",
    "ax.legend()\n",
    "\n",
    "# you can now run this cell"
   ]
  },
  {
   "cell_type": "markdown",
   "metadata": {},
   "source": [
    "<b>c. Additional Questions/Exercises.</b>\n",
    "\n",
    "<ol>\n",
    "    <li>Is this consistent with the above definition for a Poisson variable with $\\mu = 4$?</li>\n",
    "        <br>   Yes, the grpah is  consistent because the cdf is approaching to 1 and the pmf starts from 0.0 up to 4 and decreases.\n",
    "    <li>Compute the expected value and variance of the above Poisson variable using the definition\n",
    "        <br><br>\n",
    "        $$E[X] = \\sum_{k = 0}^{n} k f_X(k)= \\mu \\hspace{0.7in} \\text{and} \\hspace{0.7in} \\text{Var}[X] = E[X^2] - E[X]^2= \\mu^2 +\\mu-\\mu^2 $$.</li>\n",
    "    \n",
    "    and compare them to the values obtained with <tt>poisson.stats(mu, moments=\"mv\")</tt>\n",
    "</ol>\n"
   ]
  },
  {
   "cell_type": "markdown",
   "metadata": {},
   "source": [
    "<b>d. Additional Code.</b> \n",
    "Insert new code cells and try to recreate the results for different values of $\\mu$</li>\n",
    "</ol>"
   ]
  },
  {
   "cell_type": "code",
   "execution_count": 13,
   "metadata": {},
   "outputs": [
    {
     "data": {
      "text/plain": [
       "<matplotlib.legend.Legend at 0x7fb199720df0>"
      ]
     },
     "execution_count": 13,
     "metadata": {},
     "output_type": "execute_result"
    },
    {
     "data": {
      "image/png": "[encoded data removed]",
      "text/plain": [
       "<Figure size 432x288 with 1 Axes>"
      ]
     },
     "metadata": {
      "needs_background": "light"
     },
     "output_type": "display_data"
    }
   ],
   "source": [
    "mu = 7\n",
    "mean, var = poisson.stats(mu, moments='mv')\n",
    "\n",
    "x_min = poisson.ppf(0.05, mu)\n",
    "x_max = poisson.ppf(0.97,mu)\n",
    "\n",
    "x = np.arange(poisson.ppf(0.05, mu),\n",
    "              poisson.ppf(0.97, mu))\n",
    "# (1) create a new figure and set of axis as a subplot of size 1x1\n",
    "fig,ax =  plt.subplots(1,1)\n",
    "# (2) plot the values of the pmf for a Poisson variable for the values in x using blue dots of size ms = 8\n",
    "ax.plot(x, poisson.pmf(x, mu),'bo', ms=8, label='poisson pmf') \n",
    "# (3) plot some vertical bars  to emphasize these are discrete values (blue vars of width lw = 5)\n",
    "ax.vlines(x, 0, poisson.pmf(x, mu),colors='b',lw=5,alpha=0.5) \n",
    "# (4) plot in the same axes the cdf for the same values with red asterisks of size ms = 8\n",
    "ax.plot(x, poisson.cdf(x, mu), 'r*', ms=8, label='poisson cdf')\n",
    "# (5) and emphasize it is a discrete plot by displaying vertical lines (red bars of width lw = 3)\n",
    "ax.vlines(x, 0, poisson.cdf(x,mu), colors='r', lw=3, alpha=0.3)\n",
    "# (6) display the graph labels\n",
    "ax.legend()"
   ]
  },
  {
   "cell_type": "markdown",
   "metadata": {},
   "source": [
    "## Problem \\#3. Cauchy Distribution\n",
    "\n",
    "<a href = \"https://docs.scipy.org/doc/scipy/reference/generated/scipy.stats.cauchy.html#scipy.stats.cauchy\"> <tt>scipy.stats</tt></a> description of the <it>standard</it> Cauchy distribution\n",
    "\n",
    "<a href = \"https://www.itl.nist.gov/div898/handbook/eda/section3/eda3663.htm\">NIST description</a> of the Cauchy distribution\n"
   ]
  },
  {
   "cell_type": "markdown",
   "metadata": {},
   "source": [
    "<b>a.</b> Write the expression for the pdf, the cdf, and the percent point function (ppf) for the Cauchy distribution<br><br>\n",
    "\n",
    "> <b>Probability Density Function (pdf):</b><br><br>\n",
    "$$f_X(x) = \\frac {1}{s\\pi(1+((x-t/s))^2)} $$\n",
    "> <b>Cummulative Density Function (cdf):</b><br><br>\n",
    "$$F_X(x) = \\int_{-\\infty}^{x} f_X(\\omega) \\, d\\omega = 0.5 + \\frac {\\arctan(x)}{\\pi}$$\n",
    "> <b>Percent Point Function (ppf):</b><br><br>\n",
    "$$G(p) = \\{ F_X(x) \\}^{-1}(p) = -\\cot(\\pi p)$$\n"
   ]
  },
  {
   "cell_type": "markdown",
   "metadata": {},
   "source": [
    "<b>b. Graphs of the pdf and cdf.</b>"
   ]
  },
  {
   "cell_type": "code",
   "execution_count": 14,
   "metadata": {},
   "outputs": [],
   "source": [
    "# run this cell: read the additional comments and code, then run the cell\n",
    "\n",
    "# import the cauchy random variable of the scipy.stats module \n",
    "from scipy.stats import cauchy"
   ]
  },
  {
   "cell_type": "code",
   "execution_count": 15,
   "metadata": {},
   "outputs": [],
   "source": [
    "# complete and run: read the comments and the code below and complete the \n",
    "# code to implement the tasks described:\n",
    "\n",
    "# use the ppf funtion cauchy.ppf(p) to calculate:\n",
    "# x_min - the first value of x s.t. F_X(x) >= 0.05, \n",
    "x_min = cauchy.ppf(0.05)\n",
    "\n",
    "# add code to:\n",
    "# find x_max - the first value of x s.t. F(X(x) >= 0.99\n",
    "x_max = cauchy.ppf(0.99)\n",
    "\n",
    "# add code to:\n",
    "# create an array with 201 entries extending from x_min to x_max\n",
    "x =np.linspace(cauchy.ppf(0.05),\n",
    "                cauchy.ppf(0.99), 201)\n",
    "\n",
    "# complete the line\n",
    "\n",
    "# you can now run this cell"
   ]
  },
  {
   "cell_type": "code",
   "execution_count": 16,
   "metadata": {},
   "outputs": [
    {
     "data": {
      "text/plain": [
       "<matplotlib.legend.Legend at 0x7fb199819610>"
      ]
     },
     "execution_count": 16,
     "metadata": {},
     "output_type": "execute_result"
    },
    {
     "data": {
      "image/png": "[encoded data removed]",
      "text/plain": [
       "<Figure size 432x288 with 1 Axes>"
      ]
     },
     "metadata": {
      "needs_background": "light"
     },
     "output_type": "display_data"
    }
   ],
   "source": [
    "# complete and run: read the comments and the code below and complete the \n",
    "# code to implement the tasks described:\n",
    "\n",
    "# re-initialize the fig and axis handles\n",
    "fig1, ax1 = plt.subplots(1, 1)\n",
    "\n",
    "# add code to:\n",
    "# plot the pdf of the standard Cauchy distribution for the values of x, \n",
    "# use red color for the graph and lw=2, alpha=0.6, and label the plot 'Cauchy pdf'\n",
    "ax1.plot(x, cauchy.pdf(x),\n",
    "       'r', lw=2, alpha=0.6, label=\"cauchy pdf\") # complete the line\n",
    "\n",
    "# add code to:\n",
    "# in the same axis as above, plot the cdf of the standard Cauchy distribution \n",
    "# for the values of x, use blue color for the graph and lw=2, alpha=0.6, and label \n",
    "# the plot 'Cauchy cdf'\n",
    "ax1.plot( x,  cauchy.cdf(x),\n",
    "         'b',lw=2,alpha=0.6, label=\"cauchy cdf\")\n",
    "         \n",
    "\n",
    "# add code to:\n",
    "# display labels inside plot window\n",
    "ax1.legend() # complete the line\n",
    "\n",
    "# you can now run this cell"
   ]
  },
  {
   "cell_type": "markdown",
   "metadata": {},
   "source": [
    "<b>c. Graph of the ppf of the Cauchy distribution.</b>"
   ]
  },
  {
   "cell_type": "code",
   "execution_count": 17,
   "metadata": {},
   "outputs": [
    {
     "data": {
      "text/plain": [
       "<matplotlib.legend.Legend at 0x7fb1998d7fa0>"
      ]
     },
     "execution_count": 17,
     "metadata": {},
     "output_type": "execute_result"
    },
    {
     "data": {
      "image/png": "[encoded data removed]",
      "text/plain": [
       "<Figure size 432x288 with 1 Axes>"
      ]
     },
     "metadata": {
      "needs_background": "light"
     },
     "output_type": "display_data"
    }
   ],
   "source": [
    "# complete and run: read the comments and the code below and complete the \n",
    "# code to implement the tasks described:\n",
    "\n",
    "# add code to:\n",
    "# create an array with 201 entries extending from p = 0.01 to p_max = 0.99\n",
    "p_min = 0.05    # complete the line\n",
    "p_max = 0.95    # complete the line\n",
    "\n",
    "p = np.linspace(p_min,p_max,201)\n",
    " \n",
    "# add code to:\n",
    "# (1) a new set of axis\n",
    "fig2, ax2= plt.subplots(1,1)\n",
    "\n",
    "# (2) a plot of the ppf function of the standard Cauchy distribution for the values \n",
    "# of p use black color for the graph and lw=2, alpha=0.6, and label \n",
    "# the plot 'Cauchy ppf'\n",
    "ax2.plot( p, cauchy.ppf(p),'k', lw=2, alpha=0.6, label=\"cauchy ppf\")\n",
    "            \n",
    "\n",
    "# (3) display the label of the new plot inside plot window\n",
    "ax2.legend() # complete the line\n",
    "\n",
    "# you can now run this cell"
   ]
  },
  {
   "cell_type": "markdown",
   "metadata": {},
   "source": [
    "<b>d. Additional Questions/Exercises</b>\n",
    "<ol>\n",
    "    <li>Are these graphs consistent with the above definitions of the pdf, cdf, and ppf for a continuous Cauchy random variable?</li><br>\n",
    "    Yes, the graph are cosnistent because for Cauchy ppf it goes from 0 to the maximum 0. For the CDF the value has to be less than or equal to x and as we can see it starts from around 0.1(Verical Axis) up to 0.1(Horizontal Axis).Lastly, for the ppf is the inverse of the CDF which starts from 0.1(Horizontal Axis) up to 0.1(Vertical Axis).\n",
    "    <li>What are the expected value and variance of the standard Cauchy distribution?</li>\n",
    "</ol> The expected value is undefined and the variance doesn't exist."
   ]
  },
  {
   "cell_type": "markdown",
   "metadata": {},
   "source": [
    "## Problem \\#4. Exponential Random Variable\n",
    "\n",
    "<ul>\n",
    "    <li><a href = \"https://docs.scipy.org/doc/scipy/reference/generated/scipy.stats.expon.html#scipy.stats.expon\"><tt>scipy.stats</tt> description</a> of the exponential distribution</li>\n",
    "    <li><a href = \"https://www.itl.nist.gov/div898/handbook/eda/section3/eda3667.htm\">NIST description</a> of the exponential distribution</li>\n",
    "</ul>"
   ]
  },
  {
   "cell_type": "markdown",
   "metadata": {},
   "source": [
    "<b>a.</b> About the Exponential distribution\n",
    "<ol>\n",
    "    <li>Use the pdf to find the expression for the cdf of the Poisson distribution<br><br>\n",
    "    <b>Probability Mass Function (pmf):</b><br>\n",
    "    $$f_X(k) = e^{-x}, \\ \\ \\ \\ x \\geq 0 $$\n",
    "        <br>\n",
    "    <b>Cummulative Density Function (cdf):</b><br>\n",
    "    $$F_X(k) = \\sum_{i = 0}^{k} f_X(k, \\mu) = 1-e^{-x/\\mu}$$\n",
    "    </li><br>\n",
    "    <li>Use the cdf to find the percentage point function (ppf)</li><br>\n",
    "    $$G(p) = \\{ F_X(x) \\}^{-1}(p) = -\\mu ln(1-p)$$\n",
    "</ol>"
   ]
  },
  {
   "cell_type": "markdown",
   "metadata": {},
   "source": [
    "<b>b. Graphs of the pdf and cdf.</b>"
   ]
  },
  {
   "cell_type": "code",
   "execution_count": 18,
   "metadata": {},
   "outputs": [],
   "source": [
    "# run this cell: read the additional comments and code, then run the cell\n",
    "\n",
    "# import the exponential random variable of the scipy.stats module \n",
    "from scipy.stats import expon"
   ]
  },
  {
   "cell_type": "code",
   "execution_count": 19,
   "metadata": {},
   "outputs": [],
   "source": [
    "# complete and run: read the comments and the code below and complete the \n",
    "# code to implement the tasks described:\n",
    "\n",
    "# use the ppf funtion expon.ppf(p) to calculate:\n",
    "# x_min - the first value of x s.t. F_X(x) >= 0.005, \n",
    "x_min = expon.ppf(0.005)\n",
    "\n",
    "# add code to:\n",
    "# find x_max - the first value of x s.t. F(X(x) >= 0.95\n",
    "x_max=expon.ppf(0.95)\n",
    "\n",
    "# add code to:\n",
    "# create an array with 201 entries extending from x_min to x_max\n",
    "x = np.linspace(expon.ppf(0.005),\n",
    "                expon.ppf(0.95), 201)"
   ]
  },
  {
   "cell_type": "code",
   "execution_count": 20,
   "metadata": {
    "scrolled": true
   },
   "outputs": [
    {
     "data": {
      "text/plain": [
       "<matplotlib.legend.Legend at 0x7fb199815610>"
      ]
     },
     "execution_count": 20,
     "metadata": {},
     "output_type": "execute_result"
    },
    {
     "data": {
      "image/png": "[encoded data removed]",
      "text/plain": [
       "<Figure size 432x288 with 1 Axes>"
      ]
     },
     "metadata": {
      "needs_background": "light"
     },
     "output_type": "display_data"
    }
   ],
   "source": [
    "# complete and run: read the comments and the code below and complete the \n",
    "# code to implement the tasks described:\n",
    "fig1, ax1 = plt.subplots(1, 1)\n",
    "\n",
    "# add code to:\n",
    "# plot the pdf of the standard exponential distribution for the values of x, \n",
    "# use red color for the graph and lw=2, alpha=0.6, and label the plot 'Cauchy pdf'\n",
    "ax1.plot( x, expon.pdf(x),\n",
    "       'r-', lw=2, alpha=0.6, label='exponential pdf')\n",
    "    \n",
    "# add code to:\n",
    "# in the same axis as above, plot the cdf of the exponential distribution \n",
    "# for the values of x, use red color for the graph and lw=2, alpha=0.6, and label \n",
    "# the plot 'exponential cdf'\n",
    "ax1.plot(x, expon.cdf(x),\n",
    "       'b', lw=2, alpha=0.6, label='exponential cdf')\n",
    "\n",
    "# add the following code:\n",
    "# display labels inside plot window\n",
    "ax1.legend()\n",
    "\n",
    "# you can now run this cell"
   ]
  },
  {
   "cell_type": "markdown",
   "metadata": {},
   "source": [
    "<b>c. Graph of the ppf of the exponential distribution.</b>"
   ]
  },
  {
   "cell_type": "code",
   "execution_count": 21,
   "metadata": {},
   "outputs": [
    {
     "data": {
      "text/plain": [
       "<matplotlib.legend.Legend at 0x7fb1999d9310>"
      ]
     },
     "execution_count": 21,
     "metadata": {},
     "output_type": "execute_result"
    },
    {
     "data": {
      "image/png": "[encoded data removed]",
      "text/plain": [
       "<Figure size 432x288 with 1 Axes>"
      ]
     },
     "metadata": {
      "needs_background": "light"
     },
     "output_type": "display_data"
    }
   ],
   "source": [
    "# complete and run: read the comments and the code below and complete the \n",
    "# code to implement the tasks described:\n",
    "\n",
    "# add code to \n",
    "# create an array with 201 entries extending from p = 0.01 to p_max = 0.99:\n",
    "\n",
    "# set the end points of the array\n",
    "p_min =expon.ppf(0.01)\n",
    "p_max =expon.ppf(0.99) # complete the line\n",
    "\n",
    "# and use linpspace to create the array\n",
    "p = np.linspace(expon.ppf(0.01), # complete the line\n",
    "                expon.ppf(0.99), 201)\n",
    "# add code to:\n",
    "\n",
    "# (1) create a new set of axis\n",
    "fig2, ax2 = plt.subplots(1,1)\n",
    "\n",
    "# (2) a plot of the ppf function of the exponential distribution for the values \n",
    "# of p, use black color for the graph and lw=2, alpha=0.6, and label the plot\n",
    "# 'exponential ppf' \n",
    "ax2.plot(  x, expon.ppf(x),\n",
    "       'k', lw=2, alpha=0.6, label='exponential ppf')# complete the line\n",
    "\n",
    "# (3) display the label of the new plot inside plot window\n",
    "ax2.legend() # complete the line\n",
    "\n",
    "# you can now run this cell"
   ]
  },
  {
   "cell_type": "markdown",
   "metadata": {},
   "source": [
    "<b>d. Additional Questions/Exercises</b>\n",
    "<ol>\n",
    "    <li>Are these graphs consistent with the above definitions of the pdf, cdf, and ppf for an exponential random variable?</li><br>\n",
    "    Yes, becuase for the Pdf we can see that our x must be greater or equal to 0. it goes down from 0.0 to 3.0.For the Cdf our x must be greater or equal to 0 and $\\mu$ must be greater  to 0 and as the graph shown our x is greater then 0.\n",
    "    <li>What are the expected value and variance of the standard exponential  distribution?</li>\n",
    "</ol> The expected value is $\\mu$ and the variance is $\\mu$"
   ]
  },
  {
   "cell_type": "markdown",
   "metadata": {},
   "source": []
  }
 ],
 "metadata": {
  "kernelspec": {
   "display_name": "Python 3",
   "language": "python",
   "name": "python3"
  },
  "language_info": {
   "codemirror_mode": {
    "name": "ipython",
    "version": 3
   },
   "file_extension": ".py",
   "mimetype": "text/x-python",
   "name": "python",
   "nbconvert_exporter": "python",
   "pygments_lexer": "ipython3",
   "version": "3.8.8"
  }
 },
 "nbformat": 4,
 "nbformat_minor": 1
}
